{
 "cells": [
  {
   "cell_type": "markdown",
   "metadata": {},
   "source": [
    "# Tutorial for loading leaderboard competition data\n",
    "\n",
    "There will be three parts of the data that you need to download, please refer to our data downloading guide [package](https://github.com/sylvchev/beetl-competition) to download the data. Description can be seen in https://beetl.ai/data. \n",
    "\n",
    "**Important** Please note that for Task 1, you are ONLY allowed to use data in 'SleepSource' and 'LeaderboardSleep', we regard using data not in these folders as cheating. For Task 2, you are ONLY allowed to use Cho 2017, BNCI 2014-001, PhysionetMI (see how to use MOABB API to download in motor imagery task start kits) and data provided in 'leaderboardMI', we regard using data not in these data sets and folders as cheating. We will test run code from top ranking teams in the final stage of the competition. Please fix your random seed or so to make sure the experiemnts are reproducible.\n",
    "\n",
    "## 1. SleepSource\n",
    "\n",
    "- This folder contains the source sleep EEG of age group 25-59 with training trials and labels\n",
    "\n",
    "## 2. LeaderboardSleep\n",
    "\n",
    "- sleep_target: This folder contains 5 example subjects from age group 60-80 (10sessions) with labels, they are the example subjects from the target group\n",
    "\n",
    "- testing: This folder contains the leaderboard subjects 6-17 that without labels, that participants need to give predictions.\n",
    "\n",
    "Data information of the sleep data set above:\n",
    "\n",
    "100hz 30s-window 2channels (Fpz-Cz, Pz-Oz)\n",
    "highpass: 0.5 Hz, lowpass: 100.0 Hz\n",
    "\n",
    "labels:\n",
    "- 'Sleep stage W': 0\n",
    "- 'Sleep stage 1': 1\n",
    "- 'Sleep stage 2': 2\n",
    "- 'Sleep stage 3': 3\n",
    "- 'Sleep stage 4': 4\n",
    "- 'Sleep stage R': 5\n",
    "\n",
    "\n",
    "## 3. leaderboardMI\n",
    "\n",
    "There are five subjects for leaderboard testing, S1 S2 are from data set A, S3 S4 S5 are from data set B. We will release more data set details after the competition. Each folder has two subfolders - training and testing. Training folders contain 100 trials (S1,S2) or 120 trials (S3-S5) with labels as target domain samples of that subject. Testing folders contain the trials that you should predict.\n",
    "\n",
    "Data set A:\n",
    "\n",
    "sampling rate 500hz, 4s-window 63 channels\n",
    "\n",
    "Motor imagery labels:\n",
    "\n",
    "- 'Lefthand': 0\n",
    "- 'Righthand': 1\n",
    "- 'Feet': 2\n",
    "- 'Rest': 3\n",
    "\n",
    "ch_names =['Fp1', 'Fz', 'F3', 'F7', 'FT9', 'FC5', 'FC1', 'C3', 'T7', \n",
    "           'TP9', 'CP5', 'CP1', 'Pz', 'P3', 'P7', 'O1', 'Oz', \n",
    "           'O2', 'P4', 'P8', 'TP10', 'CP6', 'CP2', 'C4', 'T8',\n",
    "           'FT10', 'FC6', 'FC2', 'F4', 'F8', 'Fp2', 'AF7', 'AF3', \n",
    "           'AFz', 'F1', 'F5', 'FT7', 'FC3', 'FCz', 'C1', 'C5', \n",
    "           'TP7', 'CP3', 'P1', 'P5', 'PO7', 'PO3', 'POz', 'PO4', \n",
    "           'PO8', 'P6', 'P2', 'CPz', 'CP4', 'TP8', 'C6', 'C2',\n",
    "           'FC4', 'FT8', 'F6', 'F2', 'AF4', 'AF8']\n",
    "           \n",
    "highpass: 1 Hz, lowpass: 100.0 Hz, Notch filter:50Hz\n",
    "\n",
    "Data set B: \n",
    "\n",
    "200hz 4s-window 32 channels\n",
    "\n",
    "Motor imagery labels:\n",
    "\n",
    "- 'Lefthand': 0\n",
    "- 'Righthand': 1\n",
    "- 'Feet': 2\n",
    "- 'Rest': 3\n",
    "\n",
    "ch_names =['Fp1', 'Fp2', 'F3', \n",
    "            'Fz', 'F4', 'FC5', 'FC1', 'FC2','FC6', 'C5', 'C3',\n",
    "           'C1', 'Cz', 'C2', 'C4', 'C6', 'CP5', 'CP3', 'CP1',\n",
    "           'CPz', 'CP2', 'CP4', 'CP6', 'P7', 'P5', 'P3', 'P1', 'Pz', \n",
    "           'P2', 'P4', 'P6', 'P8']\n",
    "           \n",
    "highpass: 1 Hz, lowpass: 100.0 Hz\n",
    "\n"
   ]
  },
  {
   "cell_type": "code",
   "execution_count": 3,
   "metadata": {},
   "outputs": [],
   "source": [
    "import numpy as np\n",
    "import pickle"
   ]
  },
  {
   "cell_type": "markdown",
   "metadata": {},
   "source": [
    "## Loading Data in 'SourceSleep' and 'LeaderboardSleep'\n",
    "After you download the competition data, you could load your data with following format. Similarly you could open the label files accordingly."
   ]
  },
  {
   "cell_type": "code",
   "execution_count": 4,
   "metadata": {},
   "outputs": [
    {
     "name": "stdout",
     "output_type": "stream",
     "text": [
      "subject  6\n",
      "(1227, 2, 3000)\n",
      "subject  7\n",
      "(1216, 2, 3000)\n",
      "subject  8\n",
      "(1079, 2, 3000)\n",
      "subject  9\n",
      "(1076, 2, 3000)\n",
      "subject  10\n",
      "(1099, 2, 3000)\n",
      "subject  11\n",
      "(1086, 2, 3000)\n",
      "subject  12\n",
      "(696, 2, 3000)\n",
      "subject  13\n",
      "(1086, 2, 3000)\n",
      "subject  14\n",
      "(981, 2, 3000)\n",
      "subject  15\n",
      "(1295, 2, 3000)\n",
      "subject  16\n",
      "(1046, 2, 3000)\n",
      "subject  17\n",
      "(1207, 2, 3000)\n",
      "overall test size\n",
      "(13094, 2, 3000)\n"
     ]
    }
   ],
   "source": [
    "savebase = 'D:\\\\leaderboardData\\\\LeaderboardSleep\\\\testing\\\\'\n",
    "for i_test in range(6,18):\n",
    "    print('subject ',i_test)\n",
    "    with open (savebase+\"leaderboard_s\"+str(i_test)+\"r1X.npy\", 'rb') as fp:\n",
    "        X0 = pickle.load(fp)\n",
    "    print(X0.shape)\n",
    "    if i_test==6:\n",
    "        X_test = X0\n",
    "    else:\n",
    "        X_test = np.concatenate((X_test,X0))\n",
    "print('overall test size')\n",
    "print(X_test.shape)"
   ]
  },
  {
   "cell_type": "markdown",
   "metadata": {},
   "source": [
    "## Loading Data in 'leaderboardMI' for Data set A (S1,S2)"
   ]
  },
  {
   "cell_type": "code",
   "execution_count": 5,
   "metadata": {},
   "outputs": [
    {
     "name": "stdout",
     "output_type": "stream",
     "text": [
      "run 6\n",
      "(20, 63, 2000)\n",
      "run 7\n",
      "(40, 63, 2000)\n",
      "run 8\n",
      "(60, 63, 2000)\n",
      "run 9\n",
      "(80, 63, 2000)\n",
      "run 10\n",
      "(100, 63, 2000)\n",
      "run 11\n",
      "(120, 63, 2000)\n",
      "run 12\n",
      "(140, 63, 2000)\n",
      "run 13\n",
      "(160, 63, 2000)\n",
      "run 14\n",
      "(180, 63, 2000)\n",
      "run 15\n",
      "(200, 63, 2000)\n",
      "overall test size\n",
      "(200, 63, 2000)\n"
     ]
    }
   ],
   "source": [
    "pilotname='S1'\n",
    "savebase0='D:\\\\leaderboardData\\\\leaderboardMI\\\\'\n",
    "savebase = savebase0+pilotname+'\\\\'+'testing\\\\'\n",
    "\n",
    "for i in range(5,15):\n",
    "    with open (savebase+\"race\"+str(i+1)+\"_padsData.npy\", 'rb') as fp:\n",
    "        Xt = pickle.load(fp)\n",
    "    if i==5:\n",
    "        X0 = Xt\n",
    "    else:\n",
    "        X0 = np.concatenate((X0,Xt))\n",
    "    print('run',i+1)\n",
    "    print(X0.shape)   \n",
    "\n",
    "print('overall test size')\n",
    "print(X0.shape)\n"
   ]
  },
  {
   "cell_type": "markdown",
   "metadata": {},
   "source": [
    "## Loading Data in 'leaderboardMI' for Data set B (S3-S5)"
   ]
  },
  {
   "cell_type": "code",
   "execution_count": 6,
   "metadata": {},
   "outputs": [
    {
     "name": "stdout",
     "output_type": "stream",
     "text": [
      "overall test size\n",
      "(200, 32, 800)\n"
     ]
    }
   ],
   "source": [
    "pilotname='3'\n",
    "savebase0='D:\\\\leaderboardData\\\\leaderboardMI\\\\'\n",
    "savebase = savebase0+'S'+pilotname+'\\\\testing\\\\'\n",
    "\n",
    "with open (savebase+\"testing_s\"+pilotname+\"X.npy\", 'rb') as fp:\n",
    "        X_test = pickle.load(fp)\n",
    "\n",
    "print('overall test size')\n",
    "print(X_test.shape)\n"
   ]
  },
  {
   "cell_type": "code",
   "execution_count": null,
   "metadata": {},
   "outputs": [],
   "source": []
  },
  {
   "cell_type": "code",
   "execution_count": null,
   "metadata": {},
   "outputs": [],
   "source": []
  },
  {
   "cell_type": "code",
   "execution_count": null,
   "metadata": {},
   "outputs": [],
   "source": []
  },
  {
   "cell_type": "code",
   "execution_count": null,
   "metadata": {},
   "outputs": [],
   "source": []
  },
  {
   "cell_type": "code",
   "execution_count": null,
   "metadata": {},
   "outputs": [],
   "source": []
  },
  {
   "cell_type": "code",
   "execution_count": null,
   "metadata": {},
   "outputs": [],
   "source": []
  }
 ],
 "metadata": {
  "kernelspec": {
   "display_name": "Python 3",
   "language": "python",
   "name": "python3"
  },
  "language_info": {
   "codemirror_mode": {
    "name": "ipython",
    "version": 3
   },
   "file_extension": ".py",
   "mimetype": "text/x-python",
   "name": "python",
   "nbconvert_exporter": "python",
   "pygments_lexer": "ipython3",
   "version": "3.8.8"
  }
 },
 "nbformat": 4,
 "nbformat_minor": 4
}
